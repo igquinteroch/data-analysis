{
 "cells": [
  {
   "cell_type": "markdown",
   "id": "76587ce3",
   "metadata": {},
   "source": [
    "# NumPy Practice"
   ]
  },
  {
   "cell_type": "code",
   "execution_count": 1,
   "id": "9d8900bd",
   "metadata": {},
   "outputs": [],
   "source": [
    "import numpy as np"
   ]
  },
  {
   "cell_type": "markdown",
   "id": "3cc9c54b",
   "metadata": {},
   "source": [
    "### Creating basic NumPy arrays"
   ]
  },
  {
   "cell_type": "code",
   "execution_count": 2,
   "id": "8d996097",
   "metadata": {},
   "outputs": [
    {
     "data": {
      "text/plain": [
       "array([1, 2, 3])"
      ]
     },
     "execution_count": 2,
     "metadata": {},
     "output_type": "execute_result"
    }
   ],
   "source": [
    "# Creating a 1-dimensional NumPy array\n",
    "array_1d = np.array([1, 2, 3])\n",
    "array_1d"
   ]
  },
  {
   "cell_type": "code",
   "execution_count": 3,
   "id": "c5d3a681",
   "metadata": {},
   "outputs": [
    {
     "data": {
      "text/plain": [
       "array([[1, 2, 3],\n",
       "       [4, 5, 6]])"
      ]
     },
     "execution_count": 3,
     "metadata": {},
     "output_type": "execute_result"
    }
   ],
   "source": [
    "# Creating a 2-dimensional NumPy array\n",
    "array_2d = np.array([[1, 2, 3],\n",
    "                    [4, 5, 6]])\n",
    "array_2d"
   ]
  },
  {
   "cell_type": "code",
   "execution_count": 4,
   "id": "5fb6d1d1",
   "metadata": {},
   "outputs": [
    {
     "data": {
      "text/plain": [
       "array([[[ 1,  2,  3],\n",
       "        [ 4,  5,  6],\n",
       "        [ 7,  8,  9]],\n",
       "\n",
       "       [[10, 11, 12],\n",
       "        [13, 14, 15],\n",
       "        [16, 17, 18]]])"
      ]
     },
     "execution_count": 4,
     "metadata": {},
     "output_type": "execute_result"
    }
   ],
   "source": [
    "# Creating a 3-dimensional NumPy array\n",
    "array_3d = np.array([[[1, 2, 3],\n",
    "                     [4, 5, 6],\n",
    "                     [7, 8, 9]],\n",
    "                     [[10, 11, 12],\n",
    "                     [13, 14, 15],\n",
    "                     [16, 17, 18]]])\n",
    "array_3d"
   ]
  },
  {
   "cell_type": "code",
   "execution_count": 5,
   "id": "d620157a",
   "metadata": {},
   "outputs": [
    {
     "data": {
      "text/plain": [
       "((3,), 1, dtype('int64'), 3)"
      ]
     },
     "execution_count": 5,
     "metadata": {},
     "output_type": "execute_result"
    }
   ],
   "source": [
    "# Getting the attributes from the 1-dimensional array\n",
    "array_1d.shape, array_1d.ndim, array_1d.dtype, array_1d.size"
   ]
  },
  {
   "cell_type": "code",
   "execution_count": 6,
   "id": "21fd32b6",
   "metadata": {},
   "outputs": [
    {
     "data": {
      "text/plain": [
       "((2, 3), 2, dtype('int64'), 6)"
      ]
     },
     "execution_count": 6,
     "metadata": {},
     "output_type": "execute_result"
    }
   ],
   "source": [
    "# Getting the attributes from the 2-dimensional array\n",
    "array_2d.shape, array_2d.ndim, array_2d.dtype, array_2d.size"
   ]
  },
  {
   "cell_type": "code",
   "execution_count": 7,
   "id": "deeaa6eb",
   "metadata": {},
   "outputs": [
    {
     "data": {
      "text/plain": [
       "((2, 3, 3), 3, dtype('int64'), 18)"
      ]
     },
     "execution_count": 7,
     "metadata": {},
     "output_type": "execute_result"
    }
   ],
   "source": [
    "# Getting the attributes from the 3-dimensional array\n",
    "array_3d.shape, array_3d.ndim, array_3d.dtype, array_3d.size"
   ]
  },
  {
   "cell_type": "markdown",
   "id": "23a13abc",
   "metadata": {},
   "source": [
    "### Different ways of creating NumPy arrays"
   ]
  },
  {
   "cell_type": "code",
   "execution_count": 8,
   "id": "17ff3303",
   "metadata": {},
   "outputs": [
    {
     "data": {
      "text/html": [
       "<div>\n",
       "<style scoped>\n",
       "    .dataframe tbody tr th:only-of-type {\n",
       "        vertical-align: middle;\n",
       "    }\n",
       "\n",
       "    .dataframe tbody tr th {\n",
       "        vertical-align: top;\n",
       "    }\n",
       "\n",
       "    .dataframe thead th {\n",
       "        text-align: right;\n",
       "    }\n",
       "</style>\n",
       "<table border=\"1\" class=\"dataframe\">\n",
       "  <thead>\n",
       "    <tr style=\"text-align: right;\">\n",
       "      <th></th>\n",
       "      <th>0</th>\n",
       "      <th>1</th>\n",
       "      <th>2</th>\n",
       "    </tr>\n",
       "  </thead>\n",
       "  <tbody>\n",
       "    <tr>\n",
       "      <th>0</th>\n",
       "      <td>1</td>\n",
       "      <td>2</td>\n",
       "      <td>3</td>\n",
       "    </tr>\n",
       "    <tr>\n",
       "      <th>1</th>\n",
       "      <td>4</td>\n",
       "      <td>5</td>\n",
       "      <td>6</td>\n",
       "    </tr>\n",
       "  </tbody>\n",
       "</table>\n",
       "</div>"
      ],
      "text/plain": [
       "   0  1  2\n",
       "0  1  2  3\n",
       "1  4  5  6"
      ]
     },
     "execution_count": 8,
     "metadata": {},
     "output_type": "execute_result"
    }
   ],
   "source": [
    "# Using pandas\n",
    "import pandas as pd\n",
    "df = pd.DataFrame(array_2d)\n",
    "df"
   ]
  },
  {
   "cell_type": "code",
   "execution_count": 10,
   "id": "c60a08ed",
   "metadata": {},
   "outputs": [
    {
     "data": {
      "text/plain": [
       "array([[1., 1.],\n",
       "       [1., 1.],\n",
       "       [1., 1.],\n",
       "       [1., 1.],\n",
       "       [1., 1.],\n",
       "       [1., 1.],\n",
       "       [1., 1.],\n",
       "       [1., 1.],\n",
       "       [1., 1.],\n",
       "       [1., 1.]])"
      ]
     },
     "execution_count": 10,
     "metadata": {},
     "output_type": "execute_result"
    }
   ],
   "source": [
    "# Creating an array, shape (10, 2), using only ones\n",
    "array_ones = np.ones((10, 2))\n",
    "array_ones"
   ]
  },
  {
   "cell_type": "code",
   "execution_count": 11,
   "id": "1c0d3c17",
   "metadata": {},
   "outputs": [
    {
     "data": {
      "text/plain": [
       "array([[[0., 0., 0.],\n",
       "        [0., 0., 0.]],\n",
       "\n",
       "       [[0., 0., 0.],\n",
       "        [0., 0., 0.]],\n",
       "\n",
       "       [[0., 0., 0.],\n",
       "        [0., 0., 0.]],\n",
       "\n",
       "       [[0., 0., 0.],\n",
       "        [0., 0., 0.]],\n",
       "\n",
       "       [[0., 0., 0.],\n",
       "        [0., 0., 0.]],\n",
       "\n",
       "       [[0., 0., 0.],\n",
       "        [0., 0., 0.]],\n",
       "\n",
       "       [[0., 0., 0.],\n",
       "        [0., 0., 0.]]])"
      ]
     },
     "execution_count": 11,
     "metadata": {},
     "output_type": "execute_result"
    }
   ],
   "source": [
    "# Creating an array, shape (7, 2, 3), using only zeros\n",
    "array_zeros = np.zeros((7, 2, 3))\n",
    "array_zeros"
   ]
  },
  {
   "cell_type": "code",
   "execution_count": 13,
   "id": "e8e0c42e",
   "metadata": {},
   "outputs": [
    {
     "data": {
      "text/plain": [
       "array([ 0,  2,  4,  6,  8, 10, 12, 14, 16, 18, 20, 22, 24, 26, 28, 30, 32,\n",
       "       34, 36, 38, 40, 42, 44, 46, 48, 50, 52, 54, 56, 58, 60, 62, 64, 66,\n",
       "       68, 70, 72, 74, 76, 78, 80, 82, 84, 86, 88, 90, 92, 94, 96, 98])"
      ]
     },
     "execution_count": 13,
     "metadata": {},
     "output_type": "execute_result"
    }
   ],
   "source": [
    "# Creating an array within a range of 0 and 100\n",
    "range_array = np.arange(0, 100, 2) # 2 is the step\n",
    "range_array"
   ]
  },
  {
   "cell_type": "code",
   "execution_count": 14,
   "id": "2c874f54",
   "metadata": {},
   "outputs": [
    {
     "data": {
      "text/plain": [
       "array([[2, 2],\n",
       "       [6, 9],\n",
       "       [2, 2],\n",
       "       [5, 2],\n",
       "       [8, 8],\n",
       "       [4, 7],\n",
       "       [7, 9]])"
      ]
     },
     "execution_count": 14,
     "metadata": {},
     "output_type": "execute_result"
    }
   ],
   "source": [
    "# Creating an array with random numbers between 0 and 10, size (7, 2)\n",
    "random_array = np.random.randint(10, size=(7, 2))\n",
    "random_array"
   ]
  },
  {
   "cell_type": "code",
   "execution_count": 16,
   "id": "fa7367db",
   "metadata": {},
   "outputs": [
    {
     "data": {
      "text/plain": [
       "array([[0.70281465, 0.69809496, 0.05615899, 0.52905443, 0.86613821],\n",
       "       [0.86880718, 0.44043958, 0.00965387, 0.8801268 , 0.44457555],\n",
       "       [0.4970308 , 0.37789324, 0.2030937 , 0.57987694, 0.27892141]])"
      ]
     },
     "execution_count": 16,
     "metadata": {},
     "output_type": "execute_result"
    }
   ],
   "source": [
    "# Creating an array with random floats between 0 and 1, shape (3, 5)\n",
    "np.random.random((3, 5))"
   ]
  },
  {
   "cell_type": "code",
   "execution_count": 17,
   "id": "c9aa0b32",
   "metadata": {},
   "outputs": [
    {
     "data": {
      "text/plain": [
       "array([[5, 0, 3, 3, 7, 9],\n",
       "       [3, 5, 2, 4, 7, 6],\n",
       "       [8, 8, 1, 6, 7, 7],\n",
       "       [8, 1, 5, 9, 8, 9]])"
      ]
     },
     "execution_count": 17,
     "metadata": {},
     "output_type": "execute_result"
    }
   ],
   "source": [
    "# Using a random seed\n",
    "np.random.seed(0) # 0 can be any number\n",
    "\n",
    "# Creating an array with random numbers between 0 and 10, size (4, 6)\n",
    "np.random.randint(10, size=(4, 6))"
   ]
  },
  {
   "cell_type": "code",
   "execution_count": 18,
   "id": "940f60ca",
   "metadata": {},
   "outputs": [
    {
     "data": {
      "text/plain": [
       "array([1, 2, 3, 4, 5, 6, 8, 9])"
      ]
     },
     "execution_count": 18,
     "metadata": {},
     "output_type": "execute_result"
    }
   ],
   "source": [
    "# Creating an arrays of random numbers between 1 and 20, size (3, 7)\n",
    "my_array = np.random.randint(1, 10, size=(3, 7))\n",
    "\n",
    "# Finding unique numbers\n",
    "np.unique(my_array)"
   ]
  },
  {
   "cell_type": "code",
   "execution_count": 19,
   "id": "dc09af0f",
   "metadata": {},
   "outputs": [
    {
     "data": {
      "text/plain": [
       "array([[5, 4, 1, 4, 6, 1, 3],\n",
       "       [4, 9, 2, 4, 4, 4, 8]])"
      ]
     },
     "execution_count": 19,
     "metadata": {},
     "output_type": "execute_result"
    }
   ],
   "source": [
    "# Getting the first 2 rows from the last array\n",
    "my_array[:2]"
   ]
  },
  {
   "cell_type": "code",
   "execution_count": 20,
   "id": "45637db0",
   "metadata": {},
   "outputs": [
    {
     "data": {
      "text/plain": [
       "array([[5, 4],\n",
       "       [4, 9]])"
      ]
     },
     "execution_count": 20,
     "metadata": {},
     "output_type": "execute_result"
    }
   ],
   "source": [
    "# Getting the first 2 values from the first 2 rows from the last array\n",
    "my_array[:2, :2]"
   ]
  },
  {
   "cell_type": "code",
   "execution_count": 24,
   "id": "fb712c5e",
   "metadata": {},
   "outputs": [],
   "source": [
    "# Create an array with random numbers between 0 and 10, and an array of ones\n",
    "random_array_numbers = np.random.randint(10, size=(3, 5))\n",
    "ones = np.ones((3, 5))"
   ]
  },
  {
   "cell_type": "code",
   "execution_count": 25,
   "id": "8372c2dc",
   "metadata": {},
   "outputs": [
    {
     "data": {
      "text/plain": [
       "array([[ 4.,  1.,  6.,  1.,  2.],\n",
       "       [ 3.,  5.,  3.,  1.,  4.],\n",
       "       [ 3.,  1.,  8.,  6., 10.]])"
      ]
     },
     "execution_count": 25,
     "metadata": {},
     "output_type": "execute_result"
    }
   ],
   "source": [
    "# Adding the arrays\n",
    "random_array_numbers + ones"
   ]
  },
  {
   "cell_type": "markdown",
   "id": "eb6a0cef",
   "metadata": {},
   "source": [
    "### Arithmetic operations"
   ]
  },
  {
   "cell_type": "code",
   "execution_count": 26,
   "id": "a3811392",
   "metadata": {},
   "outputs": [
    {
     "data": {
      "text/plain": [
       "array([[3., 0., 5., 0., 1.],\n",
       "       [2., 4., 2., 0., 3.],\n",
       "       [2., 0., 7., 5., 9.]])"
      ]
     },
     "execution_count": 26,
     "metadata": {},
     "output_type": "execute_result"
    }
   ],
   "source": [
    "# Multiplying arrays\n",
    "random_array_numbers * ones"
   ]
  },
  {
   "cell_type": "code",
   "execution_count": 27,
   "id": "70ec825d",
   "metadata": {},
   "outputs": [
    {
     "data": {
      "text/plain": [
       "array([[ 9,  0, 25,  0,  1],\n",
       "       [ 4, 16,  4,  0,  9],\n",
       "       [ 4,  0, 49, 25, 81]])"
      ]
     },
     "execution_count": 27,
     "metadata": {},
     "output_type": "execute_result"
    }
   ],
   "source": [
    "# Exponentiation\n",
    "random_array_numbers ** 2"
   ]
  },
  {
   "cell_type": "code",
   "execution_count": 30,
   "id": "9ed03098",
   "metadata": {},
   "outputs": [
    {
     "data": {
      "text/plain": [
       "array([[ 9,  0, 25,  0,  1],\n",
       "       [ 4, 16,  4,  0,  9],\n",
       "       [ 4,  0, 49, 25, 81]])"
      ]
     },
     "execution_count": 30,
     "metadata": {},
     "output_type": "execute_result"
    }
   ],
   "source": [
    "# Square roots\n",
    "np.square(random_array_numbers)"
   ]
  },
  {
   "cell_type": "code",
   "execution_count": 31,
   "id": "19c114d6",
   "metadata": {},
   "outputs": [
    {
     "data": {
      "text/plain": [
       "2.8666666666666667"
      ]
     },
     "execution_count": 31,
     "metadata": {},
     "output_type": "execute_result"
    }
   ],
   "source": [
    "# Getting the mean\n",
    "np.mean(random_array_numbers)"
   ]
  },
  {
   "cell_type": "code",
   "execution_count": 32,
   "id": "cae95bbe",
   "metadata": {},
   "outputs": [
    {
     "data": {
      "text/plain": [
       "9"
      ]
     },
     "execution_count": 32,
     "metadata": {},
     "output_type": "execute_result"
    }
   ],
   "source": [
    "# Getting the maximum\n",
    "np.max(random_array_numbers)"
   ]
  },
  {
   "cell_type": "code",
   "execution_count": 33,
   "id": "5cbc67b4",
   "metadata": {},
   "outputs": [
    {
     "data": {
      "text/plain": [
       "0"
      ]
     },
     "execution_count": 33,
     "metadata": {},
     "output_type": "execute_result"
    }
   ],
   "source": [
    "# Getting the minimum\n",
    "np.min(random_array_numbers)"
   ]
  },
  {
   "cell_type": "code",
   "execution_count": 34,
   "id": "bc1d6116",
   "metadata": {},
   "outputs": [
    {
     "data": {
      "text/plain": [
       "2.6297443897754693"
      ]
     },
     "execution_count": 34,
     "metadata": {},
     "output_type": "execute_result"
    }
   ],
   "source": [
    "# Getting the std\n",
    "np.std(random_array_numbers)"
   ]
  },
  {
   "cell_type": "code",
   "execution_count": 35,
   "id": "1c549250",
   "metadata": {},
   "outputs": [
    {
     "data": {
      "text/plain": [
       "6.915555555555555"
      ]
     },
     "execution_count": 35,
     "metadata": {},
     "output_type": "execute_result"
    }
   ],
   "source": [
    "# Getting the variance\n",
    "np.var(random_array_numbers)"
   ]
  },
  {
   "cell_type": "markdown",
   "id": "ab14b4dc",
   "metadata": {},
   "source": [
    "### Reshaping, Transposing and Dot Product"
   ]
  },
  {
   "cell_type": "code",
   "execution_count": 36,
   "id": "79d20e03",
   "metadata": {},
   "outputs": [
    {
     "data": {
      "text/plain": [
       "array([[[3],\n",
       "        [0],\n",
       "        [5],\n",
       "        [0],\n",
       "        [1]],\n",
       "\n",
       "       [[2],\n",
       "        [4],\n",
       "        [2],\n",
       "        [0],\n",
       "        [3]],\n",
       "\n",
       "       [[2],\n",
       "        [0],\n",
       "        [7],\n",
       "        [5],\n",
       "        [9]]])"
      ]
     },
     "execution_count": 36,
     "metadata": {},
     "output_type": "execute_result"
    }
   ],
   "source": [
    "# Reshaping the last array, shape (3, 5, 1)\n",
    "random_array_numbers.reshape(3, 5, 1)"
   ]
  },
  {
   "cell_type": "code",
   "execution_count": 38,
   "id": "e3c19e30",
   "metadata": {},
   "outputs": [
    {
     "data": {
      "text/plain": [
       "array([[3, 2, 2],\n",
       "       [0, 4, 0],\n",
       "       [5, 2, 7],\n",
       "       [0, 0, 5],\n",
       "       [1, 3, 9]])"
      ]
     },
     "execution_count": 38,
     "metadata": {},
     "output_type": "execute_result"
    }
   ],
   "source": [
    "# Transposing the latest array\n",
    "random_array_numbers.T"
   ]
  },
  {
   "cell_type": "code",
   "execution_count": 39,
   "id": "e893d5f1",
   "metadata": {},
   "outputs": [],
   "source": [
    "# Creating two arrays with random numbers between 0 and 10\n",
    "array_1 = np.random.randint(10, size=(3, 3))\n",
    "array_2 = np.random.randint(10, size=(3, 2))"
   ]
  },
  {
   "cell_type": "code",
   "execution_count": 40,
   "id": "77c9495e",
   "metadata": {},
   "outputs": [
    {
     "data": {
      "text/plain": [
       "array([[65, 11],\n",
       "       [33, 28],\n",
       "       [30, 20]])"
      ]
     },
     "execution_count": 40,
     "metadata": {},
     "output_type": "execute_result"
    }
   ],
   "source": [
    "# Performing a dot product\n",
    "np.dot(array_1, array_2)"
   ]
  },
  {
   "cell_type": "markdown",
   "id": "c8a5c05c",
   "metadata": {},
   "source": [
    "Transpose (.T) can help for performing the dot product when both arrays have the same size."
   ]
  },
  {
   "cell_type": "code",
   "execution_count": 42,
   "id": "54c7e067",
   "metadata": {},
   "outputs": [],
   "source": [
    "# Creating two arrays with random numbers between 0 and 10, same size\n",
    "array_3 = np.random.randint(10, size=(3,3))\n",
    "array_4 = np.random.randint(10, size=(3,3))"
   ]
  },
  {
   "cell_type": "code",
   "execution_count": 43,
   "id": "464884f9",
   "metadata": {},
   "outputs": [
    {
     "data": {
      "text/plain": [
       "array([[ 18,  91,  64],\n",
       "       [ 48, 136, 108],\n",
       "       [ 12,  74,  55]])"
      ]
     },
     "execution_count": 43,
     "metadata": {},
     "output_type": "execute_result"
    }
   ],
   "source": [
    "# Dot product - using transpose\n",
    "np.dot(array_3.T, array_4)"
   ]
  },
  {
   "cell_type": "markdown",
   "id": "a527747d",
   "metadata": {},
   "source": [
    "### Sorting arrays"
   ]
  },
  {
   "cell_type": "code",
   "execution_count": 45,
   "id": "a4048a5d",
   "metadata": {},
   "outputs": [
    {
     "data": {
      "text/plain": [
       "array([[0, 5, 6, 9, 9],\n",
       "       [0, 1, 3, 4, 8],\n",
       "       [5, 6, 7, 8, 9]])"
      ]
     },
     "execution_count": 45,
     "metadata": {},
     "output_type": "execute_result"
    }
   ],
   "source": [
    "# Sorting an array in ascending order\n",
    "random_array = np.random.randint(10, size=(3, 5))\n",
    "np.sort(random_array)"
   ]
  },
  {
   "cell_type": "code",
   "execution_count": 46,
   "id": "841aa294",
   "metadata": {},
   "outputs": [
    {
     "data": {
      "text/plain": [
       "array([[1, 4, 3, 0, 2],\n",
       "       [3, 1, 0, 4, 2],\n",
       "       [2, 1, 3, 4, 0]])"
      ]
     },
     "execution_count": 46,
     "metadata": {},
     "output_type": "execute_result"
    }
   ],
   "source": [
    "# Sorting the indexes\n",
    "np.argsort(random_array)"
   ]
  },
  {
   "cell_type": "code",
   "execution_count": 47,
   "id": "37c19362",
   "metadata": {},
   "outputs": [
    {
     "data": {
      "text/plain": [
       "0"
      ]
     },
     "execution_count": 47,
     "metadata": {},
     "output_type": "execute_result"
    }
   ],
   "source": [
    "# Getting the index with the maximum value\n",
    "np.argmax(random_array)"
   ]
  },
  {
   "cell_type": "code",
   "execution_count": null,
   "id": "66165f0b",
   "metadata": {},
   "outputs": [],
   "source": []
  },
  {
   "cell_type": "code",
   "execution_count": null,
   "id": "c8e50be8",
   "metadata": {},
   "outputs": [],
   "source": []
  }
 ],
 "metadata": {
  "kernelspec": {
   "display_name": "Python 3",
   "language": "python",
   "name": "python3"
  },
  "language_info": {
   "codemirror_mode": {
    "name": "ipython",
    "version": 3
   },
   "file_extension": ".py",
   "mimetype": "text/x-python",
   "name": "python",
   "nbconvert_exporter": "python",
   "pygments_lexer": "ipython3",
   "version": "3.8.8"
  }
 },
 "nbformat": 4,
 "nbformat_minor": 5
}
